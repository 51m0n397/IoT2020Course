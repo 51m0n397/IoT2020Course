{
 "cells": [
  {
   "cell_type": "code",
   "execution_count": 1,
   "metadata": {},
   "outputs": [],
   "source": [
    "#import libraries\n",
    "import random\n",
    "import time\n",
    "from AWSIoTPythonSDK.MQTTLib import AWSIoTMQTTClient"
   ]
  },
  {
   "cell_type": "code",
   "execution_count": 2,
   "metadata": {},
   "outputs": [],
   "source": [
    "class EnvironmentalStation:\n",
    "    MQTTClient = AWSIoTMQTTClient(\"Environmental_station1\")\n",
    "    temperature = 0\n",
    "    humidity = 0\n",
    "    windDirection = 0\n",
    "    windIntensity = 0\n",
    "    rainHeight = 0\n",
    "    \n",
    "    def updateSensors(self):\n",
    "        self.temperature = random.randint(-50, 51)\n",
    "        self.humidity = random.randint(0, 101)\n",
    "        self.windDirection = random.randint(0, 361)\n",
    "        self.windIntensity = random.randint(0, 101)\n",
    "        self.rainHeight = random.randint(0, 51)\n",
    "    \n",
    "    def publish(self):\n",
    "        self.MQTTClient.publish(\"environmentalStation/temperature\", \n",
    "                                '{\"value\":\"' + str(self.temperature) + '\"}', 0)\n",
    "        self.MQTTClient.publish(\"environmentalStation/humidity\", \n",
    "                                '{\"value\":\"' + str(self.humidity) + '\"}', 0)\n",
    "        self.MQTTClient.publish(\"environmentalStation/windDirection\", \n",
    "                                '{\"value\":\"' + str(self.windDirection) + '\"}', 0)\n",
    "        self.MQTTClient.publish(\"environmentalStation/windIntensity\", \n",
    "                                '{\"value\":\"' + str(self.windIntensity) + '\"}', 0)\n",
    "        self.MQTTClient.publish(\"environmentalStation/rainHeight\", \n",
    "                                '{\"value\":\"' + str(self.rainHeight) + '\"}', 0)\n",
    "        \n",
    "    def configureMQTT(self):\n",
    "        self.MQTTClient.configureEndpoint(\"a29wnmzjyb35x8-ats.iot.us-east-1.amazonaws.com\", 8883)\n",
    "        self.MQTTClient.configureCredentials(\"AmazonRootCA1.pem.crt\", \"e0a2ae42f8-private.pem.key\", \"e0a2ae42f8-certificate.pem.crt\")\n",
    "        self.MQTTClient.configureOfflinePublishQueueing(-1)  # Infinite offline Publish queueing\n",
    "        self.MQTTClient.configureDrainingFrequency(2)  # Draining: 2 Hz\n",
    "        self.MQTTClient.configureConnectDisconnectTimeout(10)  # 10 sec\n",
    "        self.MQTTClient.configureMQTTOperationTimeout(5)  # 5 sec\n",
    "    \n",
    "    def connect(self):\n",
    "        return self.MQTTClient.connect()\n",
    "        \n",
    "    def disconnect(self):\n",
    "        return self.MQTTClient.disconnect()"
   ]
  },
  {
   "cell_type": "code",
   "execution_count": 3,
   "metadata": {},
   "outputs": [],
   "source": [
    "station = EnvironmentalStation()\n",
    "station.configureMQTT()"
   ]
  },
  {
   "cell_type": "code",
   "execution_count": 4,
   "metadata": {
    "scrolled": true
   },
   "outputs": [
    {
     "ename": "KeyboardInterrupt",
     "evalue": "",
     "output_type": "error",
     "traceback": [
      "\u001b[0;31m---------------------------------------------------------------------------\u001b[0m",
      "\u001b[0;31mKeyboardInterrupt\u001b[0m                         Traceback (most recent call last)",
      "\u001b[0;32m<ipython-input-4-4d5e318d3298>\u001b[0m in \u001b[0;36m<module>\u001b[0;34m\u001b[0m\n\u001b[1;32m      1\u001b[0m \u001b[0;32mwhile\u001b[0m \u001b[0;32mTrue\u001b[0m\u001b[0;34m:\u001b[0m\u001b[0;34m\u001b[0m\u001b[0;34m\u001b[0m\u001b[0m\n\u001b[0;32m----> 2\u001b[0;31m     \u001b[0mtime\u001b[0m\u001b[0;34m.\u001b[0m\u001b[0msleep\u001b[0m\u001b[0;34m(\u001b[0m\u001b[0;36m1\u001b[0m\u001b[0;34m)\u001b[0m\u001b[0;34m\u001b[0m\u001b[0;34m\u001b[0m\u001b[0m\n\u001b[0m\u001b[1;32m      3\u001b[0m     \u001b[0;32mtry\u001b[0m\u001b[0;34m:\u001b[0m\u001b[0;34m\u001b[0m\u001b[0;34m\u001b[0m\u001b[0m\n\u001b[1;32m      4\u001b[0m       \u001b[0mstation\u001b[0m\u001b[0;34m.\u001b[0m\u001b[0mconnect\u001b[0m\u001b[0;34m(\u001b[0m\u001b[0;34m)\u001b[0m\u001b[0;34m\u001b[0m\u001b[0;34m\u001b[0m\u001b[0m\n\u001b[1;32m      5\u001b[0m     \u001b[0;32mexcept\u001b[0m\u001b[0;34m:\u001b[0m\u001b[0;34m\u001b[0m\u001b[0;34m\u001b[0m\u001b[0m\n",
      "\u001b[0;31mKeyboardInterrupt\u001b[0m: "
     ]
    }
   ],
   "source": [
    "while True:\n",
    "    time.sleep(1)\n",
    "    try:\n",
    "      station.connect()\n",
    "    except:\n",
    "        continue\n",
    "    station.updateSensors()\n",
    "    station.publish()\n",
    "    station.disconnect()"
   ]
  },
  {
   "cell_type": "code",
   "execution_count": null,
   "metadata": {},
   "outputs": [],
   "source": []
  }
 ],
 "metadata": {
  "kernelspec": {
   "display_name": "Python 3",
   "language": "python",
   "name": "python3"
  },
  "language_info": {
   "codemirror_mode": {
    "name": "ipython",
    "version": 3
   },
   "file_extension": ".py",
   "mimetype": "text/x-python",
   "name": "python",
   "nbconvert_exporter": "python",
   "pygments_lexer": "ipython3",
   "version": "3.7.3"
  }
 },
 "nbformat": 4,
 "nbformat_minor": 2
}
