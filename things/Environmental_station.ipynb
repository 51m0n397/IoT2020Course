{
 "cells": [
  {
   "cell_type": "code",
   "execution_count": 1,
   "metadata": {},
   "outputs": [],
   "source": [
    "#import libraries\n",
    "import random\n",
    "from threading import Thread\n",
    "import time\n",
    "from AWSIoTPythonSDK.MQTTLib import AWSIoTMQTTClient"
   ]
  },
  {
   "cell_type": "code",
   "execution_count": 2,
   "metadata": {},
   "outputs": [],
   "source": [
    "class EnvironmentalStation(Thread):\n",
    "    temperature = 0\n",
    "    humidity = 0\n",
    "    windDirection = 0\n",
    "    windIntensity = 0\n",
    "    rainHeight = 0\n",
    "    \n",
    "    def __init__(self, name):\n",
    "        Thread.__init__(self)\n",
    "        self.name = name\n",
    "        self.MQTTClient = AWSIoTMQTTClient(name)\n",
    "    \n",
    "    def updateSensors(self):\n",
    "        self.temperature = random.randint(-50, 51)\n",
    "        self.humidity = random.randint(0, 101)\n",
    "        self.windDirection = random.randint(0, 361)\n",
    "        self.windIntensity = random.randint(0, 101)\n",
    "        self.rainHeight = random.randint(0, 51)\n",
    "    \n",
    "    def publish(self):\n",
    "        return self.MQTTClient.publish(\"stations/\" + self.name, \n",
    "                                       '{\"temperature\": \"' + str(self.temperature) + '\",' +\n",
    "                                        '\"humidity\": \"' + str(self.humidity) + '\",' +\n",
    "                                        '\"windDirection\": \"' + str(self.windDirection) + '\",' +\n",
    "                                        '\"windIntensity\": \"' + str(self.windIntensity) + '\",' +\n",
    "                                        '\"rainHeight\": \"' + str(self.rainHeight) + '\"}', 0)\n",
    "        \n",
    "    def configureMQTT(self):\n",
    "        self.MQTTClient.configureEndpoint(\"a29wnmzjyb35x8-ats.iot.us-east-1.amazonaws.com\", 8883)\n",
    "        self.MQTTClient.configureCredentials(\"AmazonRootCA1.pem.crt\", \"e0a2ae42f8-private.pem.key\", \n",
    "                                             \"e0a2ae42f8-certificate.pem.crt\")\n",
    "        self.MQTTClient.configureOfflinePublishQueueing(-1)  # Infinite offline Publish queueing\n",
    "        self.MQTTClient.configureDrainingFrequency(2)  # Draining: 2 Hz\n",
    "        self.MQTTClient.configureConnectDisconnectTimeout(10)  # 10 sec\n",
    "        self.MQTTClient.configureMQTTOperationTimeout(5)  # 5 sec\n",
    "    \n",
    "    def connect(self):\n",
    "        return self.MQTTClient.connect()\n",
    "        \n",
    "    def disconnect(self):\n",
    "        return self.MQTTClient.disconnect()\n",
    "    \n",
    "    def run(self):\n",
    "        self.configureMQTT()\n",
    "        while start:\n",
    "            time.sleep(5)\n",
    "            try:\n",
    "                self.connect()\n",
    "            except:\n",
    "                continue\n",
    "            self.updateSensors()\n",
    "            self.publish()\n",
    "            self.disconnect()"
   ]
  },
  {
   "cell_type": "code",
   "execution_count": 6,
   "metadata": {},
   "outputs": [
    {
     "name": "stdout",
     "output_type": "stream",
     "text": [
      "Enter the number of environmental station to launch\n",
      "2\n"
     ]
    }
   ],
   "source": [
    "numStation = 0\n",
    "while True:\n",
    "    numStation = input(\"Enter the number of environmental station to launch\\n\")\n",
    "    try:\n",
    "        numStation = int(numStation)\n",
    "    except:\n",
    "        print(\"ERROR: the value entered is not a number\")\n",
    "        continue\n",
    "    break\n",
    "\n",
    "stationList = []   \n",
    "for i in range(0, numStation):\n",
    "    stationList.append(EnvironmentalStation(\"environmentalStation\" + str(i)))\n",
    "    \n",
    "start = True\n",
    "for station in stationList:\n",
    "    station.start()"
   ]
  },
  {
   "cell_type": "code",
   "execution_count": 7,
   "metadata": {},
   "outputs": [
    {
     "name": "stdout",
     "output_type": "stream",
     "text": [
      "Enter 'stop' to stop the stations\n",
      "ò\n",
      "Enter 'stop' to stop the stations\n",
      "l\n",
      "Enter 'stop' to stop the stations\n",
      "stop\n"
     ]
    }
   ],
   "source": [
    "while True:\n",
    " if input(\"Enter 'stop' to stop the stations\\n\")=='stop':\n",
    "    start = False\n",
    "    for station in stationList:\n",
    "        station.join()\n",
    "    break"
   ]
  },
  {
   "cell_type": "code",
   "execution_count": null,
   "metadata": {},
   "outputs": [],
   "source": []
  }
 ],
 "metadata": {
  "kernelspec": {
   "display_name": "Python 3",
   "language": "python",
   "name": "python3"
  },
  "language_info": {
   "codemirror_mode": {
    "name": "ipython",
    "version": 3
   },
   "file_extension": ".py",
   "mimetype": "text/x-python",
   "name": "python",
   "nbconvert_exporter": "python",
   "pygments_lexer": "ipython3",
   "version": "3.7.3"
  }
 },
 "nbformat": 4,
 "nbformat_minor": 2
}
